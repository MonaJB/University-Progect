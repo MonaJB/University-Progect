{
 "cells": [
  {
   "cell_type": "code",
   "execution_count": 1,
   "id": "88e45d50",
   "metadata": {},
   "outputs": [],
   "source": [
    "import pandas as pd\n",
    "import numpy as np\n",
    "import matplotlib.pyplot as plt\n",
    "import seaborn as sns\n",
    "from sklearn.ensemble import RandomForestClassifier\n",
    "from sklearn.model_selection import train_test_split\n",
    "from sklearn.preprocessing import StandardScaler\n",
    "from statistics import mean\n",
    "from sklearn.utils import shuffle\n",
    "from sklearn.ensemble import VotingClassifier\n",
    "from sklearn.metrics import accuracy_score, confusion_matrix, classification_report\n",
    "import warnings\n",
    "import termtables as tt\n",
    "warnings.filterwarnings(\"ignore\")"
   ]
  },
  {
   "cell_type": "code",
   "execution_count": 2,
   "id": "cfdcd992",
   "metadata": {},
   "outputs": [],
   "source": [
    "red_wine = pd.read_csv('https://archive.ics.uci.edu/ml/machine-learning-databases/wine-quality/winequality-red.csv', \n",
    "                       delimiter=';')\n",
    "white_wine = pd.read_csv('https://archive.ics.uci.edu/ml/machine-learning-databases/wine-quality/winequality-white.csv', \n",
    "                         delimiter=';')"
   ]
  },
  {
   "cell_type": "code",
   "execution_count": 3,
   "id": "262cdf63",
   "metadata": {},
   "outputs": [],
   "source": [
    "red_wine['type'] = 'red'\n",
    "white_wine['type'] = 'white'"
   ]
  },
  {
   "cell_type": "code",
   "execution_count": 4,
   "id": "cdc09f07",
   "metadata": {},
   "outputs": [],
   "source": [
    "# Create a new dataFrame and put both red and wine dataset inside it. with the new index\n",
    "wine = pd.DataFrame()\n",
    "wine = [white_wine, red_wine]\n",
    "wine = pd.concat(wine)\n",
    "wine = shuffle(wine)\n",
    "wine = pd.DataFrame.reset_index(wine)\n",
    "wine = wine.drop('index', axis=1)"
   ]
  },
  {
   "cell_type": "code",
   "execution_count": 10,
   "id": "7e2f0fb4",
   "metadata": {},
   "outputs": [
    {
     "data": {
      "text/plain": [
       "(6497, 13)"
      ]
     },
     "execution_count": 10,
     "metadata": {},
     "output_type": "execute_result"
    }
   ],
   "source": [
    "wine.shape"
   ]
  },
  {
   "cell_type": "code",
   "execution_count": 7,
   "id": "36f39c72",
   "metadata": {},
   "outputs": [
    {
     "ename": "TypeError",
     "evalue": "'tuple' object is not callable",
     "output_type": "error",
     "traceback": [
      "\u001b[0;31m---------------------------------------------------------------------------\u001b[0m",
      "\u001b[0;31mTypeError\u001b[0m                                 Traceback (most recent call last)",
      "Input \u001b[0;32mIn [7]\u001b[0m, in \u001b[0;36m<cell line: 1>\u001b[0;34m()\u001b[0m\n\u001b[0;32m----> 1\u001b[0m \u001b[38;5;28mprint\u001b[39m(\u001b[38;5;124mf\u001b[39m\u001b[38;5;124m'\u001b[39m\u001b[38;5;132;01m{\u001b[39;00mwine[\u001b[38;5;124m\"\u001b[39m\u001b[38;5;124mtype\u001b[39m\u001b[38;5;124m\"\u001b[39m]\u001b[38;5;241m.\u001b[39mvalue_counts()\u001b[38;5;132;01m}\u001b[39;00m\u001b[38;5;124m,\u001b[39m\u001b[38;5;130;01m\\n\u001b[39;00m\u001b[38;5;124m,\u001b[39m\u001b[38;5;132;01m{\u001b[39;00mwine\u001b[38;5;241m.\u001b[39mshape()\u001b[38;5;132;01m}\u001b[39;00m\u001b[38;5;124m'\u001b[39m)\n",
      "\u001b[0;31mTypeError\u001b[0m: 'tuple' object is not callable"
     ]
    }
   ],
   "source": [
    "wine['type'].value_counts()"
   ]
  },
  {
   "cell_type": "code",
   "execution_count": 6,
   "id": "693928d4",
   "metadata": {},
   "outputs": [
    {
     "data": {
      "text/plain": [
       "white    0.753886\n",
       "red      0.246114\n",
       "Name: type, dtype: float64"
      ]
     },
     "execution_count": 6,
     "metadata": {},
     "output_type": "execute_result"
    }
   ],
   "source": [
    "# normalize the type attribute\n",
    "wine['type'].value_counts(normalize=True)"
   ]
  },
  {
   "cell_type": "code",
   "execution_count": 7,
   "id": "f347f614",
   "metadata": {},
   "outputs": [
    {
     "name": "stdout",
     "output_type": "stream",
     "text": [
      "      fixed acidity  volatile acidity  citric acid  residual sugar  chlorides  \\\n",
      "0               6.1             0.380         0.14             3.9      0.060   \n",
      "1               7.3             0.440         0.20             1.6      0.049   \n",
      "2               8.0             0.260         0.28             4.8      0.050   \n",
      "3               8.9             0.330         0.32             1.5      0.047   \n",
      "4               7.7             0.280         0.24             2.4      0.044   \n",
      "...             ...               ...          ...             ...        ...   \n",
      "6492            6.3             0.190         0.33            10.1      0.063   \n",
      "6493            6.4             0.220         0.32             4.9      0.046   \n",
      "6494            5.8             0.260         0.18             1.2      0.031   \n",
      "6495            6.5             0.230         0.33            13.8      0.042   \n",
      "6496            8.0             0.745         0.56             2.0      0.118   \n",
      "\n",
      "      free sulfur dioxide  total sulfur dioxide  density    pH  sulphates  \\\n",
      "0                    27.0                 113.0  0.99344  3.07       0.34   \n",
      "1                    24.0                  64.0  0.99350  3.38       0.57   \n",
      "2                    34.0                 150.0  0.99437  3.13       0.50   \n",
      "3                    11.0                 200.0  0.99540  3.19       0.46   \n",
      "4                    29.0                 157.0  0.99312  3.27       0.56   \n",
      "...                   ...                   ...      ...   ...        ...   \n",
      "6492                 63.0                 133.0  0.99561  2.86       0.41   \n",
      "6493                 50.0                 156.0  0.99316  3.38       0.55   \n",
      "6494                 40.0                 114.0  0.99080  3.42       0.40   \n",
      "6495                 25.0                 139.0  0.99695  3.35       0.56   \n",
      "6496                 30.0                 134.0  0.99680  3.24       0.66   \n",
      "\n",
      "      alcohol  quality  type_white  \n",
      "0         9.2        4           1  \n",
      "1        11.7        6           0  \n",
      "2        10.0        6           1  \n",
      "3         9.4        5           1  \n",
      "4        10.6        6           1  \n",
      "...       ...      ...         ...  \n",
      "6492      9.1        5           1  \n",
      "6493     11.2        6           1  \n",
      "6494     11.0        7           1  \n",
      "6495     10.4        6           1  \n",
      "6496      9.4        5           0  \n",
      "\n",
      "[6497 rows x 13 columns]\n"
     ]
    }
   ],
   "source": [
    "# change the 'type' attribute to 0 and 1, for red and white respectively before creating the model\n",
    "wine = pd.get_dummies(wine, drop_first=True)\n",
    "print(wine)"
   ]
  },
  {
   "cell_type": "code",
   "execution_count": 16,
   "id": "56492cd8",
   "metadata": {},
   "outputs": [
    {
     "name": "stdout",
     "output_type": "stream",
     "text": [
      "Scores Table Of Ensemble Voting Classifier: \n",
      "+---+--------------------+--------------------+--------------------+\n",
      "| k | Ensemble Accuracy  | Ensemble Precision | Ensemble Recall    |\n",
      "+===+====================+====================+====================+\n",
      "| 1 | 0.9246153846153846 | 0.9966666666666667 | 0.9271317829457364 |\n",
      "+---+--------------------+--------------------+--------------------+\n",
      "| 2 | 0.9491916859122402 | 1.0                | 0.9490740740740741 |\n",
      "+---+--------------------+--------------------+--------------------+\n",
      "| 3 | 0.9476923076923077 | 0.9902597402597403 | 0.9561128526645768 |\n",
      "+---+--------------------+--------------------+--------------------+\n",
      "| 4 | 0.926923076923077  | 1.0                | 0.926923076923077  |\n",
      "+---+--------------------+--------------------+--------------------+\n",
      "| 5 | 0.9493087557603687 | 0.9951456310679612 | 0.9534883720930233 |\n",
      "+---+--------------------+--------------------+--------------------+\n",
      "| 6 | 0.956989247311828  | 1.0                | 0.956989247311828  |\n",
      "+---+--------------------+--------------------+--------------------+\n",
      "| 7 | 0.8895705521472392 | 0.9931506849315068 | 0.8950617283950617 |\n",
      "+---+--------------------+--------------------+--------------------+\n",
      "| 8 | 0.9103448275862069 | 1.0                | 0.9103448275862069 |\n",
      "+---+--------------------+--------------------+--------------------+\n",
      "| 9 | 0.9076923076923077 | 1.0                | 0.9076923076923077 |\n",
      "+---+--------------------+--------------------+--------------------+ \n",
      "\n"
     ]
    },
    {
     "data": {
      "image/png": "[encoded data removed]",
      "text/plain": [
       "<Figure size 432x288 with 1 Axes>"
      ]
     },
     "metadata": {
      "needs_background": "light"
     },
     "output_type": "display_data"
    }
   ],
   "source": [
    "n = len(wine)\n",
    "models = []\n",
    "\n",
    "store_acc_esm = []\n",
    "store_prec_esm = []\n",
    "store_rec_esm = []\n",
    "scores_esm_t = []\n",
    "scores_esm = []\n",
    "iterations = []\n",
    "acc = []\n",
    "prec = []\n",
    "rec = []\n",
    "number_of_clients = {}\n",
    "\n",
    "for n_part in range(2, 11):\n",
    "    number_of_clients[\"{0}clients\".format(n_part)] = n_part\n",
    "    dataframes = []\n",
    "    index_to_partition = len(wine) // n_part\n",
    "    start = 0\n",
    "    end = index_to_partition\n",
    "\n",
    "    wine = pd.DataFrame(wine)\n",
    "\n",
    "    for partition in range(n_part):\n",
    "        temporary_df = wine.iloc[start:end, :]\n",
    "        dataframes.append(temporary_df)\n",
    "        start += index_to_partition\n",
    "        end += index_to_partition\n",
    "\n",
    "\n",
    "    # define some expression for quality in our model\n",
    "    y = dataframes[0]['quality'].apply(lambda y: 'Low Quality' if y < 5\n",
    "                                 else ('Good Quality' if 5 <= y <=7 \n",
    "                                       else 'High Quality'))\n",
    "    # delete quality attribute\n",
    "    X = dataframes[0].drop('quality', axis=1)\n",
    "\n",
    "\n",
    "    # Standardize Dataset\n",
    "    scaler = StandardScaler()\n",
    "    X = scaler.fit_transform(X)\n",
    "\n",
    "    # create a test and train dataset\n",
    "    X_train, X_test, y_train, y_test = train_test_split(X, y, test_size=0.2, random_state=42)\n",
    "\n",
    "\n",
    "    store_acc = []\n",
    "    store_prec = []\n",
    "    store_rec = []\n",
    "    scores_t = []\n",
    "    scores = []\n",
    "\n",
    "    for k in range (1, len(dataframes)):\n",
    "        # define some expression for quality in our model\n",
    "        y = dataframes[k]['quality'].apply(lambda y: 'Low Quality' if y < 5\n",
    "                                 else ('Good Quality' if 5 <= y <=7 \n",
    "                                       else 'High Quality'))\n",
    "        # delete quality attribute\n",
    "        X = dataframes[k].drop('quality', axis=1)\n",
    "\n",
    "        X = scaler.fit_transform(X)\n",
    "\n",
    "        rfc = RandomForestClassifier()\n",
    "        rfc.get_params(deep=True)\n",
    "        trained_model = rfc.fit(X, y)\n",
    "\n",
    "        y_pred = trained_model.predict(X_test)\n",
    "\n",
    "#         print(\"Accuracy Score {0}th of {1} partitioning : \".format(k, n_part), accuracy_score(y_test, y_pred))\n",
    "        models.append(trained_model)\n",
    "    \n",
    "    list_of_models = []\n",
    "    for i in range(len(models)):\n",
    "        list_of_models.append(('model{0}'.format(i), models[i]))\n",
    "\n",
    "    ensemble_rfc = VotingClassifier(estimators=list_of_models, voting='hard')\n",
    "    ensemble_rfc.fit(X_train, y_train)\n",
    "    y_pred = ensemble_rfc.predict(X_test)\n",
    "    \n",
    "    # Comput Accuracy, Precision and recall from Confusion Matrix \n",
    "    cm_esm = confusion_matrix(y_pred, y_test)\n",
    "\n",
    "    tp = cm_esm[0][0]\n",
    "    fp = cm_esm[1][0] + cm_esm[2][0]\n",
    "    fn = cm_esm[0][1] + cm_esm[0][2]\n",
    "    tn = cm_esm[1][1] + cm_esm[1][2] + cm_esm[2][1] + cm_esm[2][2]\n",
    "\n",
    "    accuracy_esm = (tp + tn) / (tp + fp + tn + fn)\n",
    "    precision_esm = tp / (tp + fp)\n",
    "    recall_esm = tp / (tp + fn)\n",
    "\n",
    "    scores_esm_t.append([n_part - 1, accuracy_esm, precision_esm, recall_esm])\n",
    "    scores_esm.append([accuracy_esm, precision_esm, recall_esm])\n",
    "    iterations.append(scores_esm)\n",
    "\n",
    "\n",
    "#     print(\"Ensemble Accuracy Score{0}.forrmat(n_part) : \", accuracy_score(y_test, y_pred))\n",
    "\n",
    "scores_table = tt.to_string([scores_esm_t], header=[\"k\", \"Ensemble Accuracy\", \"Ensemble Precision\", \"Ensemble Recall\"],\n",
    "                            style=tt.styles.ascii_thin_double)\n",
    "print(\"Scores Table Of Ensemble Voting Classifier: \")\n",
    "print(scores_table, \"\\n\")\n",
    "\n",
    "a = []\n",
    "b = []\n",
    "c = []\n",
    "\n",
    "for l in scores_esm:\n",
    "    a.append(l[0])\n",
    "    b.append(l[1])\n",
    "    c.append(l[2])\n",
    "\n",
    "fig = plt.figure()\n",
    "\n",
    "ax = fig.add_subplot(1, 1, 1)\n",
    "\n",
    "ax.plot([i for i in range(1, 10)], a, 'tab:red', label='Accuracy', marker=\"D\", markersize=4)\n",
    "ax.plot([i for i in range(1, 10)], b, 'tab:blue', label='Precision', marker=\"D\", markersize=4)\n",
    "ax.plot([i for i in range(1, 10)], c, 'tab:green', label='Recall', marker=\"D\", markersize=4)\n",
    "\n",
    "plt.xlabel(\"number of client workers(k)\")\n",
    "plt.ylabel(\"Accuracy/ Precision/ Recall\")\n",
    "plt.legend(loc='lower left')\n",
    "plt.title(\"Letter recognition\")\n",
    "plt.show()"
   ]
  },
  {
   "cell_type": "code",
   "execution_count": 11,
   "id": "4a280c88",
   "metadata": {},
   "outputs": [],
   "source": []
  }
 ],
 "metadata": {
  "kernelspec": {
   "display_name": "Python 3 (ipykernel)",
   "language": "python",
   "name": "python3"
  },
  "language_info": {
   "codemirror_mode": {
    "name": "ipython",
    "version": 3
   },
   "file_extension": ".py",
   "mimetype": "text/x-python",
   "name": "python",
   "nbconvert_exporter": "python",
   "pygments_lexer": "ipython3",
   "version": "3.10.3"
  }
 },
 "nbformat": 4,
 "nbformat_minor": 5
}
